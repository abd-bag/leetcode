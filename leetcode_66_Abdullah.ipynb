{
 "cells": [
  {
   "cell_type": "code",
   "execution_count": null,
   "metadata": {},
   "outputs": [],
   "source": [
    "# 66. Plus One\n",
    "# https://leetcode.com/problems/plus-one/\n",
    "# github address: \n",
    "\n",
    "out = []\n",
    "inputinteger = int(input(\"\"))\n",
    "plusone = str(inputinteger+1)\n",
    "for i in plusone:\n",
    "    out.append(i)\n",
    "print(out)"
   ]
  }
 ],
 "metadata": {
  "kernelspec": {
   "display_name": "Python 3",
   "language": "python",
   "name": "python3"
  },
  "language_info": {
   "codemirror_mode": {
    "name": "ipython",
    "version": 3
   },
   "file_extension": ".py",
   "mimetype": "text/x-python",
   "name": "python",
   "nbconvert_exporter": "python",
   "pygments_lexer": "ipython3",
   "version": "3.7.0"
  }
 },
 "nbformat": 4,
 "nbformat_minor": 2
}
