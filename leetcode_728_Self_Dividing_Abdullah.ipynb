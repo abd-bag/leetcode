{
 "cells": [
  {
   "cell_type": "code",
   "execution_count": null,
   "metadata": {},
   "outputs": [],
   "source": [
    "selfdividers = []\n",
    "for y in range(1,10000):\n",
    "    counter = 0\n",
    "    y = str(y)\n",
    "    if not \"0\" in y:\n",
    "        for x in range(0,len(str(y))):\n",
    "            if int(y) % int(y[x]) == 0:\n",
    "                counter += 1\n",
    "        if counter == len(str(y)):\n",
    "            selfdividers.append(y)\n",
    "selfdividers"
   ]
  }
 ],
 "metadata": {
  "kernelspec": {
   "display_name": "Python 3",
   "language": "python",
   "name": "python3"
  },
  "language_info": {
   "codemirror_mode": {
    "name": "ipython",
    "version": 3
   },
   "file_extension": ".py",
   "mimetype": "text/x-python",
   "name": "python",
   "nbconvert_exporter": "python",
   "pygments_lexer": "ipython3",
   "version": "3.7.0"
  }
 },
 "nbformat": 4,
 "nbformat_minor": 2
}
